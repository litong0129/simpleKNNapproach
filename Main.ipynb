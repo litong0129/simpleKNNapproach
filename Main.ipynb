{
 "cells": [
  {
   "cell_type": "markdown",
   "metadata": {},
   "source": [
    "# Project 1 - KNN"
   ]
  },
  {
   "cell_type": "markdown",
   "metadata": {},
   "source": [
    "The true line is y = 3*x + error. The purpose of this project is to use the K Nearest Neighbour approach to approximate this line."
   ]
  },
  {
   "cell_type": "code",
   "execution_count": 123,
   "metadata": {},
   "outputs": [
    {
     "data": {
      "image/png": "[encoded data removed]",
      "text/plain": [
       "<Figure size 432x288 with 1 Axes>"
      ]
     },
     "metadata": {},
     "output_type": "display_data"
    }
   ],
   "source": [
    "import numpy as np\n",
    "import matplotlib.pyplot as mp\n",
    "mu, sigma = 0,1\n",
    "err = np.random.normal(mu,sigma,100)\n",
    "#print(err)\n",
    "x = 10*np.random.rand(100)\n",
    "y = 3*x+err\n",
    "plot=mp.scatter(x,y)\n",
    "\n"
   ]
  },
  {
   "cell_type": "code",
   "execution_count": 133,
   "metadata": {},
   "outputs": [],
   "source": [
    "def testing_points(m,d,dom):\n",
    "    x = numpy.random.rand(m,d)*dom\n",
    "    return x"
   ]
  },
  {
   "cell_type": "code",
   "execution_count": 130,
   "metadata": {},
   "outputs": [
    {
     "name": "stdout",
     "output_type": "stream",
     "text": [
      "[[0.         2.82842712 5.65685425]\n",
      " [2.82842712 0.         2.82842712]]\n"
     ]
    }
   ],
   "source": [
    "def pairwise_dist(x_test, x_train):\n",
    "    if x_train.ndim != x_test.ndim:\n",
    "        print(\"wrong\")\n",
    "    else:\n",
    "        x_tsnew = x_test.reshape(1,x_test.shape[0],x_test.shape[1])\n",
    "        x_tnew = x_train.reshape(x_train.shape[0],1,x_train.shape[1])\n",
    "        ##print(x_tnew)\n",
    "        ##print(x_tsnew)\n",
    "        #print(((x_tnew - x_tsnew)**2))\n",
    "        #print(((x_tnew - x_tsnew)**2).sum(axis=2))\n",
    "        dist = np.sqrt(((x_tnew - x_tsnew)**2).sum(axis=2)).transpose()\n",
    "    return dist\n",
    "\n",
    "x = np.array([[1,2],[3,4]])\n",
    "y = np.array([[1,2],[3,4],[5,6]])\n",
    "# y = np.array([[1],[2],[3],[4],[5],[6]])\n",
    "# x = np.array([[1.5],[2.5],[3.5]])\n",
    "print(pairwise_dist(x,y))"
   ]
  },
  {
   "cell_type": "code",
   "execution_count": 135,
   "metadata": {},
   "outputs": [
    {
     "name": "stdout",
     "output_type": "stream",
     "text": [
      "<matplotlib.collections.PathCollection object at 0x105bd6ef0>\n"
     ]
    },
    {
     "data": {
      "image/png": "[encoded data removed]",
      "text/plain": [
       "<Figure size 432x288 with 1 Axes>"
      ]
     },
     "metadata": {},
     "output_type": "display_data"
    }
   ],
   "source": [
    "def x_tr(k,x_test,x_train):\n",
    "    dist = pairwise_dist(x_test,x_train)\n",
    "    sort = dist.argsort(axis=1)[:,:k]\n",
    "    y_test_hat = x_train[sort]\n",
    "    return ((3*y_test_hat).sum(axis=1))/k\n",
    "\n",
    "k=2\n",
    "y = np.array([[1],[2],[3],[4],[5],[6]])\n",
    "x = np.array([[1.5],[2.5],[3.5]])\n",
    "print(mp.scatter(x,x_tr(k,x,y)))\n",
    "\n"
   ]
  },
  {
   "cell_type": "code",
   "execution_count": null,
   "metadata": {},
   "outputs": [],
   "source": []
  }
 ],
 "metadata": {
  "kernelspec": {
   "display_name": "Python 3",
   "language": "python",
   "name": "python3"
  },
  "language_info": {
   "codemirror_mode": {
    "name": "ipython",
    "version": 3
   },
   "file_extension": ".py",
   "mimetype": "text/x-python",
   "name": "python",
   "nbconvert_exporter": "python",
   "pygments_lexer": "ipython3",
   "version": "3.6.5"
  }
 },
 "nbformat": 4,
 "nbformat_minor": 2
}
